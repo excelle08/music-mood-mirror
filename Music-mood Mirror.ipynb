{
 "cells": [
  {
   "cell_type": "code",
   "execution_count": 11,
   "id": "a9807c69",
   "metadata": {},
   "outputs": [],
   "source": [
    "# Import libraries\n",
    "import yearly_data_preprocessing\n",
    "import ground_truth\n",
    "# import lyrics_positivity_analyzer\n",
    "import os\n",
    "from huggingface_hub import hf_hub_download\n"
   ]
  },
  {
   "cell_type": "code",
   "execution_count": 12,
   "id": "d642132e",
   "metadata": {},
   "outputs": [],
   "source": [
    "def get_avg_positivity_score(tags: list) -> float:\n",
    "    \"\"\"\n",
    "    Calculate the average positivity score based on the provided tags.\n",
    "    \n",
    "    Args:\n",
    "        tags (list): A list of tags representing emotions.\n",
    "        \n",
    "    Returns:\n",
    "        float: The average positivity score.\n",
    "    \"\"\"\n",
    "    positivity_dict = {\n",
    "    'Joyful': 5, 'Melancholic': 2, 'Hopeful': 5, 'Angry': 1, 'Romantic': 4,\n",
    "    'Nostalgic': 3, 'Sad': 1, 'Energetic': 4, 'Passionate': 4, 'Lonely': 1,\n",
    "    'Uplifting': 5, 'Bittersweet': 3, 'Empowering': 5, 'Heartbroken': 1,\n",
    "    'Reflective': 3, 'Playful': 4, 'Dark': 1, 'Calm': 4, 'Longing': 2, 'Triumphant': 5\n",
    "    }\n",
    "    scores = [positivity_dict.get(tag, 0) for tag in tags]\n",
    "    valid_scores = [score for score in scores if score > 0]\n",
    "    \n",
    "    if valid_scores:\n",
    "        return sum(valid_scores) / len(valid_scores)\n",
    "    else:\n",
    "        return 0.0\n",
    "    \n",
    "def from_lyrics_to_positivity(lyrics: str) -> [list[str], float]:\n",
    "    \"\"\"\n",
    "    Analyze the lyrics and return the average positivity score.\n",
    "    \n",
    "    Args:\n",
    "        lyrics (str): The lyrics to analyze.\n",
    "        \n",
    "    Returns:\n",
    "        float: The average positivity score of the lyrics.\n",
    "    \"\"\"\n",
    "    prompt = \"\"\"\n",
    "        You are an expert in analyzing song lyrics to determine the emotions they convey.\n",
    "        Analyze the following song lyrics and return exactly 3 emotion tags that best summarize the emotions conveyed by the song. Only output the tags, in this format: #tag1 #tag2 #tag3.\n",
    "        The tags must be adjectives and strictly chosen from the following list: Joyful, Melancholic, Hopeful, Angry, Romantic, Nostalgic, Sad, Energetic, Passionate, Lonely, Uplifting, Bittersweet, Empowering, Heartbroken, Reflective, Playful, Dark, Calm, Longing, Triumphant\n",
    "    '''{lyrics}'''\n",
    "    \"\"\"\n",
    "    # along with weights assigning to each each tag that summing up to 100%\n",
    "    response = llm(prompt.format(lyrics=lyrics), temperature=0.0, max_tokens=512, stop={\"\\n\\n\\n\"})\n",
    "    mood = response['choices'][0]['text'].strip().split('\\n')\n",
    "    # print(response, \"\\n************\\n\")\n",
    "    # print(mood[0])\n",
    "    tags_str = mood[0] if mood else ''\n",
    "    tags = [tag.lstrip('#') for tag in tags_str.strip().split()]\n",
    "    \n",
    "    return tags, get_avg_positivity_score(tags)"
   ]
  },
  {
   "cell_type": "code",
   "execution_count": 13,
   "id": "fc02d253",
   "metadata": {},
   "outputs": [
    {
     "name": "stdout",
     "output_type": "stream",
     "text": [
      "Processed 795 songs from 2016.\n",
      "Processed 4463 songs from 2017.\n",
      "Processed 4833 songs from 2018.\n",
      "Processed 7639 songs from 2019.\n",
      "Processed 4876 songs from 2020.\n",
      "Processed 5180 songs from 2021.\n",
      "Processed 4941 songs from 2022.\n",
      "Processed 5975 songs from 2023.\n",
      "Processed 5813 songs from 2024.\n",
      "Processed 2151 songs from 2025.\n"
     ]
    }
   ],
   "source": [
    "years = [2016, 2017, 2018, 2019, 2020, 2021, 2022, 2023, 2024, 2025]\n",
    "all_processed_songs_by_year = yearly_data_preprocessing.batch_preprocess_yearly_data(r'C:\\Users\\sarah\\Documents\\Github\\music-mood-mirror\\data\\input_data\\processed_with_weeklyfreq', years)\n"
   ]
  },
  {
   "cell_type": "code",
   "execution_count": null,
   "id": "d2b37f78",
   "metadata": {},
   "outputs": [],
   "source": [
    "# local LLM model\n",
    "\n",
    "for year in years:\n",
    "    songs = all_processed_songs_by_year.get(year, [])\n",
    "    if not songs:\n",
    "        print(\"No songs found for the year\", year)\n",
    "        exit(1)\n",
    "    # Filter songs to only those where first_occurrence_in_week is True\n",
    "    songs = [song for song in songs if getattr(song, \"first_occurrence_in_week\", True)]\n",
    "\n",
    "    # # Take a random sample of 20 songs from songs_2024\n",
    "    # sampled_songs = random.sample(songs_2024, min(20, len(songs_2024)))\n",
    "\n",
    "    for song in songs:\n",
    "        song.mood_tags_local, song.positivity_score_local = from_lyrics_to_positivity(song.lyrics)\n",
    "        song.positivity_score_local_wghted = song.positivity_score_local * song.repeats_this_week\n",
    "    print(songs[0])"
   ]
  },
  {
   "cell_type": "code",
   "execution_count": null,
   "id": "b25e8b67",
   "metadata": {},
   "outputs": [],
   "source": [
    "from collections import defaultdict\n",
    "import json\n",
    "\n",
    "# aggregate the positivity scores by week for each year\n",
    "weekly_weighted_avg_positivity_by_year = {}\n",
    "\n",
    "for year in years:\n",
    "    songs = all_processed_songs_by_year.get(year, [])\n",
    "    # Group songs by week number\n",
    "    week_to_scores = defaultdict(lambda: {'weighted_sum': 0.0, 'repeats_sum': 0})\n",
    "    for song in songs:\n",
    "        week = getattr(song, \"week\", None)\n",
    "        if week is None:\n",
    "            continue\n",
    "        weighted_score = getattr(song, \"positivity_score_local_wghted\", 0.0)\n",
    "        repeats = getattr(song, \"repeats_this_week\", 1)\n",
    "        week_to_scores[week]['weighted_sum'] += weighted_score\n",
    "        week_to_scores[week]['repeats_sum'] += repeats\n",
    "    # Calculate weighted average for each week\n",
    "    tmp=[0]*53  # Initialize a list for 53 weeks\n",
    "    for week, data in week_to_scores.items():\n",
    "        tmp[week - 1] = (data['weighted_sum'] / data['repeats_sum'] if data['repeats_sum'] > 0 else 0.0)\n",
    "    weekly_weighted_avg_positivity_by_year[year] = tmp\n",
    "# Save the results to a file\n",
    "output_file = r'C:\\Users\\sarah\\Documents\\Github\\music-mood-mirror\\data\\output_data\\weekly_weighted_avg_positivity_by_year.json'\n",
    "with open(output_file, 'w', encoding='utf-8') as f:\n",
    "    json.dump(weekly_weighted_avg_positivity_by_year, f, ensure_ascii=False, indent=4)"
   ]
  }
 ],
 "metadata": {
  "kernelspec": {
   "display_name": "ginkgo",
   "language": "python",
   "name": "python3"
  },
  "language_info": {
   "codemirror_mode": {
    "name": "ipython",
    "version": 3
   },
   "file_extension": ".py",
   "mimetype": "text/x-python",
   "name": "python",
   "nbconvert_exporter": "python",
   "pygments_lexer": "ipython3",
   "version": "3.12.9"
  }
 },
 "nbformat": 4,
 "nbformat_minor": 5
}
